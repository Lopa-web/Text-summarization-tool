{
 "cells": [
  {
   "cell_type": "code",
   "execution_count": null,
   "id": "580d36e1-c991-43b4-8ab0-5989f753a280",
   "metadata": {},
   "outputs": [],
   "source": [
    "!pip install textblob==0.9.0\n",
    "!pip install nltk\n",
    "!pip install newspaper3k"
   ]
  },
  {
   "cell_type": "code",
   "execution_count": 2,
   "id": "5644bcab-9e02-4d24-889d-f96bf547ac8a",
   "metadata": {},
   "outputs": [],
   "source": [
    "import tkinter as tk\n",
    "import nltk\n",
    "from textblob import TextBlob\n",
    "from newspaper import Article"
   ]
  },
  {
   "cell_type": "code",
   "execution_count": 3,
   "id": "93b3f8fe-0b2b-4e3a-aa77-56cb2fd0331a",
   "metadata": {},
   "outputs": [
    {
     "name": "stderr",
     "output_type": "stream",
     "text": [
      "[nltk_data] Downloading package punkt to\n",
      "[nltk_data]     C:\\Users\\KIIT0001\\AppData\\Roaming\\nltk_data...\n",
      "[nltk_data]   Package punkt is already up-to-date!\n"
     ]
    },
    {
     "data": {
      "text/plain": [
       "True"
      ]
     },
     "execution_count": 3,
     "metadata": {},
     "output_type": "execute_result"
    }
   ],
   "source": [
    "nltk.download('punkt') #model use for nlp"
   ]
  },
  {
   "cell_type": "code",
   "execution_count": 4,
   "id": "1dd19570-93eb-4a14-bf73-faa06397679a",
   "metadata": {},
   "outputs": [],
   "source": [
    "url=\"https://timesofindia.indiatimes.com/readersblog/joonakkonwar/women-empowerment-3-26133/\""
   ]
  },
  {
   "cell_type": "code",
   "execution_count": 5,
   "id": "856727c7-bd41-4fdb-8c93-be359256a670",
   "metadata": {},
   "outputs": [],
   "source": [
    "article=Article(url)"
   ]
  },
  {
   "cell_type": "code",
   "execution_count": 6,
   "id": "8a29bcbf-d282-48db-98d2-2c7a1a814168",
   "metadata": {},
   "outputs": [],
   "source": [
    "article.download() #download the url data"
   ]
  },
  {
   "cell_type": "code",
   "execution_count": 7,
   "id": "85e5341d-f4b5-477d-a7ef-c6ad7fb2c909",
   "metadata": {},
   "outputs": [],
   "source": [
    "article.parse() #parse the data the parse dissect the articles that is need"
   ]
  },
  {
   "cell_type": "code",
   "execution_count": 8,
   "id": "475ff8f3-83f7-4a0c-a58f-0dc4b3bb0966",
   "metadata": {},
   "outputs": [],
   "source": [
    "article.nlp() #using nlp"
   ]
  },
  {
   "cell_type": "code",
   "execution_count": 9,
   "id": "de176e98-adf4-4d16-8aa3-9e72d04347e3",
   "metadata": {},
   "outputs": [
    {
     "name": "stdout",
     "output_type": "stream",
     "text": [
      "Title: Women empowerment\n",
      "Author: []\n",
      "Publication date: 2020-09-16 00:00:00\n",
      "Summary: Since then, women have been vocal about gender equality and have continuously made efforts to empower themselves to achieve that equality.\n",
      "The empowerment and autonomy of women and the improvement of their political, social, economic, and health status is a highly important end in itself.\n",
      "Moreover, today there are different denotations of the term “Women Empowerment” which have led to different sects of belief.\n",
      "Empowerment holds different meanings to different psyches and this divergence, this comprehension of facts against fiction, this way of interpretation that people of various sects, associations and understanding is making the basic understanding of “women empowerment” more complex.\n",
      "So, when one evaluates whether women empowerment is a myth or reality, it is not that easy as women empowerment at times seems to be an illusion that has been made into reality by some but remains uncharted territory to many.\n"
     ]
    }
   ],
   "source": [
    "print('Title:',article.title)\n",
    "print('Author:',article.authors)\n",
    "print('Publication date:',article.publish_date)\n",
    "print('Summary:',article.summary)"
   ]
  },
  {
   "cell_type": "code",
   "execution_count": 10,
   "id": "26815883-e41d-4744-8e48-79fd7425e230",
   "metadata": {},
   "outputs": [
    {
     "name": "stdout",
     "output_type": "stream",
     "text": [
      "positive\n"
     ]
    }
   ],
   "source": [
    "analysis=TextBlob(article.text)\n",
    "if analysis.polarity > 0:\n",
    "    print(\"positive\")\n",
    "elif analysis.polarity > 0:\n",
    "    print(\"negative\")\n",
    "else:\n",
    "    print(\"neutral\")"
   ]
  },
  {
   "cell_type": "code",
   "execution_count": 11,
   "id": "58766220-a5db-44b4-bcff-151b6c92c9c1",
   "metadata": {},
   "outputs": [],
   "source": [
    "def summarize():\n",
    "    url=utext.get('1.0',\"end\").strip()\n",
    "    article=Article(url)\n",
    "    article.download()\n",
    "    article.parse()\n",
    "    article.nlp()\n",
    "\n",
    "    title.config(state='normal')\n",
    "    author.config(state='normal')\n",
    "    publication.config(state='normal')\n",
    "    summary.config(state='normal')\n",
    "    sentiment.config(state='normal')\n",
    "\n",
    "    title.delete('1.0','end')\n",
    "    title.insert('1.0',article.title)\n",
    "\n",
    "    author.delete('1.0','end')\n",
    "    author.insert('1.0',article.authors)\n",
    "\n",
    "    publication.delete('1.0','end')\n",
    "    publication.insert('1.0',article.publish_date)\n",
    "\n",
    "    summary.delete('1.0','end')\n",
    "    summary.insert('1.0',article.summary)\n",
    "\n",
    "    sentiment.delete('1.0','end')\n",
    "    analysis=TextBlob(article.text)\n",
    "    if analysis.polarity > 0: \n",
    "        sentiment.insert('1.0',\"positive\")\n",
    "    elif analysis.polarity < 0: \n",
    "        sentiment.insert('1.0',\"negative\")\n",
    "    else:\n",
    "        sentiment.insert('1.0',\"neutral\")\n",
    "\n",
    "    title.config(state='disabled')\n",
    "    author.config(state='disabled')\n",
    "    publication.config(state='disabled')\n",
    "    summary.congig(state='disabled')\n",
    "    sentiment.config(state='disabled')"
   ]
  },
  {
   "cell_type": "code",
   "execution_count": 12,
   "id": "e0428104-7506-4559-8d77-815f5d62be87",
   "metadata": {},
   "outputs": [
    {
     "ename": "KeyboardInterrupt",
     "evalue": "",
     "output_type": "error",
     "traceback": [
      "\u001b[1;31m---------------------------------------------------------------------------\u001b[0m",
      "\u001b[1;31mKeyboardInterrupt\u001b[0m                         Traceback (most recent call last)",
      "Cell \u001b[1;32mIn[12], line 43\u001b[0m\n\u001b[0;32m     40\u001b[0m btn\u001b[38;5;241m=\u001b[39mtk\u001b[38;5;241m.\u001b[39mButton(root,text\u001b[38;5;241m=\u001b[39m\u001b[38;5;124m\"\u001b[39m\u001b[38;5;124mSummarize\u001b[39m\u001b[38;5;124m\"\u001b[39m,command\u001b[38;5;241m=\u001b[39msummarize)\n\u001b[0;32m     41\u001b[0m btn\u001b[38;5;241m.\u001b[39mpack()\n\u001b[1;32m---> 43\u001b[0m root\u001b[38;5;241m.\u001b[39mmainloop()\n",
      "File \u001b[1;32m~\\anaconda3\\Lib\\tkinter\\__init__.py:1485\u001b[0m, in \u001b[0;36mMisc.mainloop\u001b[1;34m(self, n)\u001b[0m\n\u001b[0;32m   1483\u001b[0m \u001b[38;5;28;01mdef\u001b[39;00m \u001b[38;5;21mmainloop\u001b[39m(\u001b[38;5;28mself\u001b[39m, n\u001b[38;5;241m=\u001b[39m\u001b[38;5;241m0\u001b[39m):\n\u001b[0;32m   1484\u001b[0m \u001b[38;5;250m    \u001b[39m\u001b[38;5;124;03m\"\"\"Call the mainloop of Tk.\"\"\"\u001b[39;00m\n\u001b[1;32m-> 1485\u001b[0m     \u001b[38;5;28mself\u001b[39m\u001b[38;5;241m.\u001b[39mtk\u001b[38;5;241m.\u001b[39mmainloop(n)\n",
      "\u001b[1;31mKeyboardInterrupt\u001b[0m: "
     ]
    }
   ],
   "source": [
    "root=tk.Tk()\n",
    "root.title(\"Article Summarizer\")\n",
    "root.geometry('1200x600')\n",
    "\n",
    "tlabel=tk.Label(root,text=\"Title\")\n",
    "tlabel.pack()\n",
    "title=tk.Text(root,height=1,width=140)\n",
    "title.config(state='disabled',bg='#dddddd')\n",
    "title.pack()\n",
    "\n",
    "alabel=tk.Label(root,text=\"Author\")\n",
    "alabel.pack()\n",
    "author=tk.Text(root,height=1,width=140)\n",
    "author.config(state='disabled',bg='#dddddd')\n",
    "author.pack()\n",
    "\n",
    "plabel=tk.Label(root,text=\"Publishing date\")\n",
    "plabel.pack()\n",
    "publication=tk.Text(root,height=1,width=140)\n",
    "publication.config(state='disabled',bg='#dddddd')\n",
    "publication.pack()\n",
    "\n",
    "slabel=tk.Label(root,text=\"Summary\")\n",
    "slabel.pack()\n",
    "summary=tk.Text(root,height=1,width=140)\n",
    "summary.config(state='disabled',bg='#dddddd')\n",
    "summary.pack()\n",
    "\n",
    "selabel=tk.Label(root,text=\"Sentiment Analysis\")\n",
    "selabel.pack()\n",
    "sentiment=tk.Text(root,height=1,width=140)\n",
    "sentiment.config(state='disabled',bg='#dddddd')\n",
    "sentiment.pack()\n",
    "\n",
    "ulabel=tk.Label(root, text=\"URL\")\n",
    "ulabel.pack()\n",
    "utext=tk.Text(root,height=1,width=140)\n",
    "utext.pack()\n",
    "\n",
    "btn=tk.Button(root,text=\"Summarize\",command=summarize)\n",
    "btn.pack()\n",
    "\n",
    "root.mainloop()"
   ]
  }
 ],
 "metadata": {
  "kernelspec": {
   "display_name": "Python [conda env:base] *",
   "language": "python",
   "name": "conda-base-py"
  },
  "language_info": {
   "codemirror_mode": {
    "name": "ipython",
    "version": 3
   },
   "file_extension": ".py",
   "mimetype": "text/x-python",
   "name": "python",
   "nbconvert_exporter": "python",
   "pygments_lexer": "ipython3",
   "version": "3.11.5"
  }
 },
 "nbformat": 4,
 "nbformat_minor": 5
}
